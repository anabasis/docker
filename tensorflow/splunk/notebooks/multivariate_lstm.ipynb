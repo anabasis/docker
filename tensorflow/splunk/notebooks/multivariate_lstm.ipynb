{
 "cells": [
  {
   "cell_type": "markdown",
   "metadata": {},
   "source": [
    "# Deep Learning Toolkit for Splunk - Multivariate LSTM"
   ]
  },
  {
   "cell_type": "markdown",
   "metadata": {},
   "source": [
    "This notebook contains an example workflow for training and applying a multivariate LSTM."
   ]
  },
  {
   "cell_type": "markdown",
   "metadata": {},
   "source": [
    "## Stage 0 - import libraries\n",
    "At stage 0 we define all imports necessary to run our subsequent code depending on various libraries."
   ]
  },
  {
   "cell_type": "code",
   "execution_count": 3,
   "metadata": {
    "deletable": false,
    "name": "mltkc_import"
   },
   "outputs": [],
   "source": [
    "# this definition exposes all python module imports that should be available in all subsequent commands\n",
    "import json\n",
    "import numpy as np\n",
    "import pandas as pd\n",
    "from sklearn.preprocessing import MinMaxScaler\n",
    "from tensorflow.keras.models import Sequential\n",
    "from tensorflow.keras.layers import Dense\n",
    "from tensorflow.keras.layers import LSTM\n",
    "from tensorflow.keras.models import load_model\n",
    "import tensorflow as tf\n",
    "# restrict GPU memory https://www.tensorflow.org/guide/gpu#limiting_gpu_memory_growth\n",
    "gpus = tf.config.experimental.list_physical_devices('GPU')\n",
    "if gpus:\n",
    "    try:\n",
    "        # Currently, memory growth needs to be the same across GPUs\n",
    "        for gpu in gpus:\n",
    "            tf.config.experimental.set_memory_growth(gpu, True)\n",
    "            #logical_gpus = tf.config.experimental.list_logical_devices('GPU')\n",
    "            # print(len(gpus), \"Physical GPUs,\", len(logical_gpus), \"Logical GPUs\")\n",
    "    except RuntimeError as e:\n",
    "        # Memory growth must be set before GPUs have been initialized\n",
    "        print(e)\n",
    "\n",
    "# ...\n",
    "# global constants\n",
    "MODEL_DIRECTORY = \"/srv/app/model/data/\""
   ]
  },
  {
   "cell_type": "code",
   "execution_count": 4,
   "metadata": {},
   "outputs": [
    {
     "name": "stdout",
     "output_type": "stream",
     "text": [
      "numpy version: 1.18.1\n",
      "pandas version: 1.1.5\n"
     ]
    }
   ],
   "source": [
    "# THIS CELL IS NOT EXPORTED - free notebook cell for testing or development purposes\n",
    "print(\"numpy version: \" + np.__version__)\n",
    "print(\"pandas version: \" + pd.__version__)"
   ]
  },
  {
   "cell_type": "markdown",
   "metadata": {},
   "source": [
    "## Stage 1 - get a data sample from Splunk\n",
    "In Splunk run a search to pipe a dataset into your notebook environment. Note: mode=stage is used in the | fit command to do this."
   ]
  },
  {
   "cell_type": "markdown",
   "metadata": {},
   "source": [
    "| inputlookup server_power.csv <br/>\n",
    "| streamstats count <br/>\n",
    "| eventstats max(count) as records <br/>\n",
    "| eval train_split=round(records*0.7) <br/>\n",
    "| appendpipe <br/>\n",
    "    [| where count<train_split <br/>\n",
    "    | fit MLTKContainer algo=multivariate_lstm \"ac_power\" from \"total-unhalted_core_cycles\" \"total-instructions_retired\" \"total-last_level_cache_references\" \"total-memory_bus_transactions\" \"total-cpu-utilization\" \"total-disk-accesses\" \"total-disk-blocks\" \"total-disk-utilization\" epochs=5 batch_size=50 previous_steps=2 into lstm_ac_power] "
   ]
  },
  {
   "cell_type": "markdown",
   "metadata": {},
   "source": [
    "After you run this search your data set sample is available as a csv inside the container to develop your model. The name is taken from the into keyword (\"barebone_model\" in the example above) or set to \"default\" if no into keyword is present. This step is intended to work with a subset of your data to create your custom model."
   ]
  },
  {
   "cell_type": "code",
   "execution_count": 5,
   "metadata": {
    "deletable": false,
    "name": "mltkc_stage"
   },
   "outputs": [],
   "source": [
    "# this cell is not executed from MLTK and should only be used for staging data into the notebook environment\n",
    "def stage(name):\n",
    "    with open(\"data/\"+name+\".csv\", 'r') as f:\n",
    "        df = pd.read_csv(f)\n",
    "    with open(\"data/\"+name+\".json\", 'r') as f:\n",
    "        param = json.load(f)\n",
    "    return df, param"
   ]
  },
  {
   "cell_type": "code",
   "execution_count": 6,
   "metadata": {},
   "outputs": [
    {
     "data": {
      "text/plain": [
       "{'options': {'params': {'mode': 'stage',\n",
       "   'algo': 'multivariate_lstm',\n",
       "   'epochs': '5',\n",
       "   'batch_size': '50',\n",
       "   'previous_steps': '2'},\n",
       "  'args': ['ac_power',\n",
       "   'total-unhalted_core_cycles',\n",
       "   'total-instructions_retired',\n",
       "   'total-last_level_cache_references',\n",
       "   'total-memory_bus_transactions',\n",
       "   'total-cpu-utilization',\n",
       "   'total-disk-accesses',\n",
       "   'total-disk-blocks',\n",
       "   'total-disk-utilization'],\n",
       "  'target_variable': ['ac_power'],\n",
       "  'feature_variables': ['total-unhalted_core_cycles',\n",
       "   'total-instructions_retired',\n",
       "   'total-last_level_cache_references',\n",
       "   'total-memory_bus_transactions',\n",
       "   'total-cpu-utilization',\n",
       "   'total-disk-accesses',\n",
       "   'total-disk-blocks',\n",
       "   'total-disk-utilization'],\n",
       "  'model_name': 'lstm_ac_power',\n",
       "  'algo_name': 'MLTKContainer',\n",
       "  'mlspl_limits': {'disabled': False,\n",
       "   'handle_new_cat': 'default',\n",
       "   'max_distinct_cat_values': '100000',\n",
       "   'max_distinct_cat_values_for_classifiers': '100000',\n",
       "   'max_distinct_cat_values_for_scoring': '100000',\n",
       "   'max_fit_time': '60000',\n",
       "   'max_inputs': '1000000000',\n",
       "   'max_memory_usage_mb': '48000',\n",
       "   'max_model_size_mb': '1500',\n",
       "   'max_score_time': '60000',\n",
       "   'streaming_apply': '0',\n",
       "   'use_sampling': '1'},\n",
       "  'kfold_cv': None},\n",
       " 'feature_variables': ['total-unhalted_core_cycles',\n",
       "  'total-instructions_retired',\n",
       "  'total-last_level_cache_references',\n",
       "  'total-memory_bus_transactions',\n",
       "  'total-cpu-utilization',\n",
       "  'total-disk-accesses',\n",
       "  'total-disk-blocks',\n",
       "  'total-disk-utilization'],\n",
       " 'target_variables': ['ac_power']}"
      ]
     },
     "execution_count": 6,
     "metadata": {},
     "output_type": "execute_result"
    }
   ],
   "source": [
    "# THIS CELL IS NOT EXPORTED - free notebook cell for testing or development purposes\n",
    "df, param = stage(\"lstm_ac_power\")\n",
    "param"
   ]
  },
  {
   "cell_type": "markdown",
   "metadata": {},
   "source": [
    "## Stage 2 - create and initialize a model"
   ]
  },
  {
   "cell_type": "code",
   "execution_count": 7,
   "metadata": {
    "deletable": false,
    "name": "mltkc_init"
   },
   "outputs": [],
   "source": [
    "# initialize your model\n",
    "# available inputs: data and parameters\n",
    "# returns the model object which will be used as a reference to call fit, apply and summary subsequently\n",
    "def init(df,param):\n",
    "    # Determine the number of features in the data\n",
    "    n_features = df[param['feature_variables']].shape[1]\n",
    "    \n",
    "    # Set the model parameters depending on the input variables\n",
    "    previous_steps = 3\n",
    "    hidden_layers = 30\n",
    "    activation_func = 'tanh'\n",
    "    \n",
    "    if 'options' in param:\n",
    "        if 'params' in param['options']:\n",
    "            if 'previous_steps' in param['options']['params']:\n",
    "                previous_steps = int(param['options']['params']['previous_steps'])\n",
    "            if 'hidden_layers' in param['options']['params']:\n",
    "                hidden_layers = int(param['options']['params']['hidden_layers'])\n",
    "            if 'activation' in param['options']['params']:\n",
    "                activation_func = param['options']['params']['activation']\n",
    "    \n",
    "    model = Sequential()\n",
    "    model.add(LSTM(units=hidden_layers, activation=activation_func, return_sequences=True, input_shape=(previous_steps, n_features)))\n",
    "    model.add(LSTM(units=hidden_layers))\n",
    "    model.add(Dense(1))\n",
    "    model.compile(loss='mae', optimizer='adam')\n",
    "    return model"
   ]
  },
  {
   "cell_type": "code",
   "execution_count": 8,
   "metadata": {
    "scrolled": true
   },
   "outputs": [
    {
     "name": "stdout",
     "output_type": "stream",
     "text": [
      "<tensorflow.python.keras.engine.sequential.Sequential object at 0x7efcf0a71950>\n"
     ]
    }
   ],
   "source": [
    "# THIS CELL IS NOT EXPORTED - free notebook cell for testing or development purposes\n",
    "print(init(df,param))\n",
    "model=init(df,param)"
   ]
  },
  {
   "cell_type": "markdown",
   "metadata": {},
   "source": [
    "## Stage 3 - fit the model"
   ]
  },
  {
   "cell_type": "code",
   "execution_count": 30,
   "metadata": {
    "deletable": false,
    "name": "mltkc_fit"
   },
   "outputs": [],
   "source": [
    "# train your model\n",
    "# returns a fit info json object and may modify the model object\n",
    "def fit(model,df,param):\n",
    "    X = df[param['feature_variables']]\n",
    "    y = df[param['target_variables']]\n",
    "    \n",
    "    # Determine how many features are in the dataset\n",
    "    n_features = X.shape[1]\n",
    "    \n",
    "    # Determine the batch size and epochs\n",
    "    previous_steps=3\n",
    "    model_batch_size=10\n",
    "    model_epochs=100\n",
    "\n",
    "    if 'options' in param:\n",
    "        if 'params' in param['options']:\n",
    "            if 'previous_steps' in param['options']['params']:\n",
    "                previous_steps = int(param['options']['params']['previous_steps'])\n",
    "            if 'epochs' in param['options']['params']:\n",
    "                model_epochs = int(param['options']['params']['epochs'])\n",
    "            if 'batch_size' in param['options']['params']:\n",
    "                model_batch_size = int(param['options']['params']['batch_size'])\n",
    "\n",
    "    # Scale the input data\n",
    "    scaler = MinMaxScaler()\n",
    "    X_ss = scaler.fit_transform(X)\n",
    "\n",
    "    # Loop through the data to ensure you have the correct input and output for the LSTM\n",
    "    input_data=[]\n",
    "    output_data=[]\n",
    "    for i in range(X_ss.shape[0]-previous_steps-1):\n",
    "        t=[]\n",
    "        for j in range(0,previous_steps):\n",
    "            t.append(X_ss[i+j])\n",
    "\n",
    "        input_data.append(t)\n",
    "        output_data.append(y.iloc[i+previous_steps])\n",
    "\n",
    "    X = np.array(input_data)\n",
    "    y = np.array(output_data)\n",
    "\n",
    "    X = X.reshape(X.shape[0],previous_steps, n_features)\n",
    "\n",
    "    print(\"Training data contains \", X.shape[0], \" records of shape \", X.shape)\n",
    "    \n",
    "    # fit network\n",
    "    history = model.fit(X, y, epochs=model_epochs, batch_size=model_batch_size, validation_data=(X, y), verbose=2, shuffle=False)\n",
    "    info = {\"message\": \"model trained\"}\n",
    "    return info"
   ]
  },
  {
   "cell_type": "code",
   "execution_count": 31,
   "metadata": {},
   "outputs": [
    {
     "name": "stdout",
     "output_type": "stream",
     "text": [
      "Training data contains  21885  records of shape  (21885, 2, 8)\n",
      "Epoch 1/100\n",
      "6/6 - 0s - loss: 1.8290 - val_loss: 1.8342\n",
      "Epoch 2/100\n",
      "6/6 - 0s - loss: 1.8353 - val_loss: 1.8282\n",
      "Epoch 3/100\n",
      "6/6 - 0s - loss: 1.8297 - val_loss: 1.8273\n",
      "Epoch 4/100\n",
      "6/6 - 0s - loss: 1.8276 - val_loss: 1.8293\n",
      "Epoch 5/100\n",
      "6/6 - 0s - loss: 1.8301 - val_loss: 1.8272\n",
      "Epoch 6/100\n",
      "6/6 - 0s - loss: 1.8285 - val_loss: 1.8249\n",
      "Epoch 7/100\n",
      "6/6 - 0s - loss: 1.8255 - val_loss: 1.8260\n",
      "Epoch 8/100\n",
      "6/6 - 0s - loss: 1.8268 - val_loss: 1.8239\n",
      "Epoch 9/100\n",
      "6/6 - 0s - loss: 1.8248 - val_loss: 1.8228\n",
      "Epoch 10/100\n",
      "6/6 - 0s - loss: 1.8234 - val_loss: 1.8230\n",
      "Epoch 11/100\n",
      "6/6 - 0s - loss: 1.8239 - val_loss: 1.8210\n",
      "Epoch 12/100\n",
      "6/6 - 0s - loss: 1.8218 - val_loss: 1.8212\n",
      "Epoch 13/100\n",
      "6/6 - 0s - loss: 1.8221 - val_loss: 1.8192\n",
      "Epoch 14/100\n",
      "6/6 - 0s - loss: 1.8199 - val_loss: 1.8189\n",
      "Epoch 15/100\n",
      "6/6 - 0s - loss: 1.8197 - val_loss: 1.8176\n",
      "Epoch 16/100\n",
      "6/6 - 0s - loss: 1.8184 - val_loss: 1.8168\n",
      "Epoch 17/100\n",
      "6/6 - 0s - loss: 1.8177 - val_loss: 1.8158\n",
      "Epoch 18/100\n",
      "6/6 - 0s - loss: 1.8166 - val_loss: 1.8149\n",
      "Epoch 19/100\n",
      "6/6 - 0s - loss: 1.8157 - val_loss: 1.8140\n",
      "Epoch 20/100\n",
      "6/6 - 0s - loss: 1.8149 - val_loss: 1.8130\n",
      "Epoch 21/100\n",
      "6/6 - 0s - loss: 1.8138 - val_loss: 1.8122\n",
      "Epoch 22/100\n",
      "6/6 - 0s - loss: 1.8130 - val_loss: 1.8110\n",
      "Epoch 23/100\n",
      "6/6 - 0s - loss: 1.8117 - val_loss: 1.8104\n",
      "Epoch 24/100\n",
      "6/6 - 0s - loss: 1.8113 - val_loss: 1.8089\n",
      "Epoch 25/100\n",
      "6/6 - 0s - loss: 1.8097 - val_loss: 1.8086\n",
      "Epoch 26/100\n",
      "6/6 - 0s - loss: 1.8095 - val_loss: 1.8070\n",
      "Epoch 27/100\n",
      "6/6 - 0s - loss: 1.8078 - val_loss: 1.8066\n",
      "Epoch 28/100\n",
      "6/6 - 0s - loss: 1.8075 - val_loss: 1.8051\n",
      "Epoch 29/100\n",
      "6/6 - 0s - loss: 1.8059 - val_loss: 1.8046\n",
      "Epoch 30/100\n",
      "6/6 - 0s - loss: 1.8055 - val_loss: 1.8032\n",
      "Epoch 31/100\n",
      "6/6 - 0s - loss: 1.8040 - val_loss: 1.8026\n",
      "Epoch 32/100\n",
      "6/6 - 0s - loss: 1.8034 - val_loss: 1.8014\n",
      "Epoch 33/100\n",
      "6/6 - 0s - loss: 1.8022 - val_loss: 1.8005\n",
      "Epoch 34/100\n",
      "6/6 - 0s - loss: 1.8014 - val_loss: 1.7994\n",
      "Epoch 35/100\n",
      "6/6 - 0s - loss: 1.8003 - val_loss: 1.7986\n",
      "Epoch 36/100\n",
      "6/6 - 0s - loss: 1.7995 - val_loss: 1.7974\n",
      "Epoch 37/100\n",
      "6/6 - 0s - loss: 1.7983 - val_loss: 1.7966\n",
      "Epoch 38/100\n",
      "6/6 - 0s - loss: 1.7975 - val_loss: 1.7954\n",
      "Epoch 39/100\n",
      "6/6 - 0s - loss: 1.7963 - val_loss: 1.7946\n",
      "Epoch 40/100\n",
      "6/6 - 0s - loss: 1.7955 - val_loss: 1.7934\n",
      "Epoch 41/100\n",
      "6/6 - 0s - loss: 1.7943 - val_loss: 1.7925\n",
      "Epoch 42/100\n",
      "6/6 - 0s - loss: 1.7934 - val_loss: 1.7915\n",
      "Epoch 43/100\n",
      "6/6 - 0s - loss: 1.7924 - val_loss: 1.7905\n",
      "Epoch 44/100\n",
      "6/6 - 0s - loss: 1.7913 - val_loss: 1.7895\n",
      "Epoch 45/100\n",
      "6/6 - 0s - loss: 1.7903 - val_loss: 1.7884\n",
      "Epoch 46/100\n",
      "6/6 - 0s - loss: 1.7893 - val_loss: 1.7874\n",
      "Epoch 47/100\n",
      "6/6 - 0s - loss: 1.7883 - val_loss: 1.7864\n",
      "Epoch 48/100\n",
      "6/6 - 0s - loss: 1.7873 - val_loss: 1.7853\n",
      "Epoch 49/100\n",
      "6/6 - 0s - loss: 1.7862 - val_loss: 1.7843\n",
      "Epoch 50/100\n",
      "6/6 - 0s - loss: 1.7852 - val_loss: 1.7833\n",
      "Epoch 51/100\n",
      "6/6 - 0s - loss: 1.7842 - val_loss: 1.7823\n",
      "Epoch 52/100\n",
      "6/6 - 0s - loss: 1.7832 - val_loss: 1.7813\n",
      "Epoch 53/100\n",
      "6/6 - 0s - loss: 1.7822 - val_loss: 1.7803\n",
      "Epoch 54/100\n",
      "6/6 - 0s - loss: 1.7812 - val_loss: 1.7792\n",
      "Epoch 55/100\n",
      "6/6 - 0s - loss: 1.7801 - val_loss: 1.7782\n",
      "Epoch 56/100\n",
      "6/6 - 0s - loss: 1.7791 - val_loss: 1.7771\n",
      "Epoch 57/100\n",
      "6/6 - 0s - loss: 1.7781 - val_loss: 1.7761\n",
      "Epoch 58/100\n",
      "6/6 - 0s - loss: 1.7770 - val_loss: 1.7751\n",
      "Epoch 59/100\n",
      "6/6 - 0s - loss: 1.7760 - val_loss: 1.7741\n",
      "Epoch 60/100\n",
      "6/6 - 0s - loss: 1.7750 - val_loss: 1.7730\n",
      "Epoch 61/100\n",
      "6/6 - 0s - loss: 1.7739 - val_loss: 1.7720\n",
      "Epoch 62/100\n",
      "6/6 - 0s - loss: 1.7730 - val_loss: 1.7709\n",
      "Epoch 63/100\n",
      "6/6 - 0s - loss: 1.7719 - val_loss: 1.7699\n",
      "Epoch 64/100\n",
      "6/6 - 0s - loss: 1.7709 - val_loss: 1.7689\n",
      "Epoch 65/100\n",
      "6/6 - 0s - loss: 1.7699 - val_loss: 1.7678\n",
      "Epoch 66/100\n",
      "6/6 - 0s - loss: 1.7689 - val_loss: 1.7668\n",
      "Epoch 67/100\n",
      "6/6 - 0s - loss: 1.7678 - val_loss: 1.7658\n",
      "Epoch 68/100\n",
      "6/6 - 0s - loss: 1.7668 - val_loss: 1.7648\n",
      "Epoch 69/100\n",
      "6/6 - 0s - loss: 1.7659 - val_loss: 1.7638\n",
      "Epoch 70/100\n",
      "6/6 - 0s - loss: 1.7648 - val_loss: 1.7629\n",
      "Epoch 71/100\n",
      "6/6 - 0s - loss: 1.7640 - val_loss: 1.7617\n",
      "Epoch 72/100\n",
      "6/6 - 0s - loss: 1.7627 - val_loss: 1.7609\n",
      "Epoch 73/100\n",
      "6/6 - 0s - loss: 1.7620 - val_loss: 1.7597\n",
      "Epoch 74/100\n",
      "6/6 - 0s - loss: 1.7608 - val_loss: 1.7588\n",
      "Epoch 75/100\n",
      "6/6 - 0s - loss: 1.7599 - val_loss: 1.7577\n",
      "Epoch 76/100\n",
      "6/6 - 0s - loss: 1.7588 - val_loss: 1.7567\n",
      "Epoch 77/100\n",
      "6/6 - 0s - loss: 1.7578 - val_loss: 1.7556\n",
      "Epoch 78/100\n",
      "6/6 - 0s - loss: 1.7567 - val_loss: 1.7547\n",
      "Epoch 79/100\n",
      "6/6 - 0s - loss: 1.7558 - val_loss: 1.7536\n",
      "Epoch 80/100\n",
      "6/6 - 0s - loss: 1.7547 - val_loss: 1.7527\n",
      "Epoch 81/100\n",
      "6/6 - 0s - loss: 1.7538 - val_loss: 1.7515\n",
      "Epoch 82/100\n",
      "6/6 - 0s - loss: 1.7526 - val_loss: 1.7506\n",
      "Epoch 83/100\n",
      "6/6 - 0s - loss: 1.7517 - val_loss: 1.7493\n",
      "Epoch 84/100\n",
      "6/6 - 0s - loss: 1.7504 - val_loss: 1.7485\n",
      "Epoch 85/100\n",
      "6/6 - 0s - loss: 1.7496 - val_loss: 1.7473\n",
      "Epoch 86/100\n",
      "6/6 - 0s - loss: 1.7484 - val_loss: 1.7462\n",
      "Epoch 87/100\n",
      "6/6 - 0s - loss: 1.7474 - val_loss: 1.7452\n",
      "Epoch 88/100\n",
      "6/6 - 0s - loss: 1.7464 - val_loss: 1.7442\n",
      "Epoch 89/100\n",
      "6/6 - 0s - loss: 1.7453 - val_loss: 1.7431\n",
      "Epoch 90/100\n",
      "6/6 - 0s - loss: 1.7443 - val_loss: 1.7421\n",
      "Epoch 91/100\n",
      "6/6 - 0s - loss: 1.7432 - val_loss: 1.7411\n",
      "Epoch 92/100\n",
      "6/6 - 0s - loss: 1.7422 - val_loss: 1.7400\n",
      "Epoch 93/100\n",
      "6/6 - 0s - loss: 1.7412 - val_loss: 1.7390\n",
      "Epoch 94/100\n",
      "6/6 - 0s - loss: 1.7402 - val_loss: 1.7379\n",
      "Epoch 95/100\n",
      "6/6 - 0s - loss: 1.7391 - val_loss: 1.7369\n",
      "Epoch 96/100\n",
      "6/6 - 0s - loss: 1.7381 - val_loss: 1.7359\n",
      "Epoch 97/100\n",
      "6/6 - 0s - loss: 1.7371 - val_loss: 1.7349\n",
      "Epoch 98/100\n",
      "6/6 - 0s - loss: 1.7361 - val_loss: 1.7339\n",
      "Epoch 99/100\n",
      "6/6 - 0s - loss: 1.7351 - val_loss: 1.7328\n",
      "Epoch 100/100\n",
      "6/6 - 0s - loss: 1.7340 - val_loss: 1.7318\n",
      "{'message': 'model trained'}\n",
      "Training in seconds:  10.512410879135132\n"
     ]
    }
   ],
   "source": [
    "# THIS CELL IS NOT EXPORTED - free notebook cell for testing or development purposes\n",
    "import time\n",
    "start = time.time()\n",
    "print(fit(model,df,param))\n",
    "end = time.time()\n",
    "elapsed = end-start\n",
    "print(\"Training in seconds: \", elapsed)"
   ]
  },
  {
   "cell_type": "markdown",
   "metadata": {},
   "source": [
    "## Stage 4 - apply the model"
   ]
  },
  {
   "cell_type": "code",
   "execution_count": 32,
   "metadata": {
    "deletable": false,
    "name": "mltkc_apply"
   },
   "outputs": [],
   "source": [
    "# apply your model\n",
    "# returns the calculated results\n",
    "def apply(model,df,param):\n",
    "    y_hat = np.zeros(df.shape[0]) \n",
    "    \n",
    "    X = df[param['feature_variables']]\n",
    "    n_features = X.shape[1]\n",
    "    \n",
    "    # Determine the batch size and epochs\n",
    "    previous_steps=3\n",
    "\n",
    "    if 'options' in param:\n",
    "        if 'params' in param['options']:\n",
    "            if 'previous_steps' in param['options']['params']:\n",
    "                previous_steps = int(param['options']['params']['previous_steps'])\n",
    "    \n",
    "    # Scale the input data\n",
    "    scaler = MinMaxScaler()\n",
    "    X_ss = scaler.fit_transform(X)\n",
    "\n",
    "    # Loop through the data to ensure you have the correct input and output for the LSTM\n",
    "    input_data=[]\n",
    "    output_data=[]\n",
    "    for i in range(X_ss.shape[0]-previous_steps-1):\n",
    "        t=[]\n",
    "        for j in range(0,previous_steps):\n",
    "            t.append(X_ss[i+j])\n",
    "\n",
    "        input_data.append(t)\n",
    "\n",
    "    X = np.array(input_data)\n",
    "    X = X.reshape(X.shape[0],previous_steps, n_features)\n",
    "    \n",
    "    predictions = model.predict(X)\n",
    "    \n",
    "    for k in range(y_hat.shape[0]):\n",
    "        if k > previous_steps:\n",
    "            y_hat[k]=predictions[k-previous_steps-1]\n",
    "    \n",
    "    result = pd.DataFrame(y_hat, columns=['prediction'])\n",
    "    return result"
   ]
  },
  {
   "cell_type": "code",
   "execution_count": 33,
   "metadata": {},
   "outputs": [
    {
     "name": "stdout",
     "output_type": "stream",
     "text": [
      "       prediction\n",
      "0        0.000000\n",
      "1        0.000000\n",
      "2        0.000000\n",
      "3      219.538712\n",
      "4      220.543030\n",
      "...           ...\n",
      "21883  286.869934\n",
      "21884  286.883240\n",
      "21885  286.893494\n",
      "21886  286.878510\n",
      "21887  286.873627\n",
      "\n",
      "[21888 rows x 1 columns]\n",
      "21888\n"
     ]
    },
    {
     "data": {
      "text/plain": [
       "[<matplotlib.lines.Line2D at 0x7efc585a2750>]"
      ]
     },
     "execution_count": 33,
     "metadata": {},
     "output_type": "execute_result"
    },
    {
     "data": {
      "image/png": "[encoded data removed]",
      "text/plain": [
       "<Figure size 432x288 with 1 Axes>"
      ]
     },
     "metadata": {
      "needs_background": "light"
     },
     "output_type": "display_data"
    }
   ],
   "source": [
    "# THIS CELL IS NOT EXPORTED - free notebook cell for testing or development purposes\n",
    "print(apply(model,df,param))\n",
    "predictions=apply(model,df,param)\n",
    "\n",
    "print(df.shape[0])\n",
    "\n",
    "import matplotlib.pyplot as plt\n",
    "%matplotlib inline\n",
    "\n",
    "plt.plot(predictions)"
   ]
  },
  {
   "cell_type": "markdown",
   "metadata": {},
   "source": [
    "## Stage 5 - save the model"
   ]
  },
  {
   "cell_type": "code",
   "execution_count": null,
   "metadata": {
    "deletable": false,
    "name": "mltkc_save"
   },
   "outputs": [],
   "source": [
    "# save model to name in expected convention \"<algo_name>_<model_name>\"\n",
    "def save(model,name):\n",
    "    model.save(MODEL_DIRECTORY + name + \".h5\")\n",
    "    return model"
   ]
  },
  {
   "cell_type": "markdown",
   "metadata": {},
   "source": [
    "## Stage 6 - load the model"
   ]
  },
  {
   "cell_type": "code",
   "execution_count": null,
   "metadata": {
    "deletable": false,
    "name": "mltkc_load"
   },
   "outputs": [],
   "source": [
    "# load model from name in expected convention \"<algo_name>_<model_name>\"\n",
    "def load(name):\n",
    "    model = load_model(MODEL_DIRECTORY + name + \".h5\")\n",
    "    return model"
   ]
  },
  {
   "cell_type": "markdown",
   "metadata": {},
   "source": [
    "## Stage 7 - provide a summary of the model"
   ]
  },
  {
   "cell_type": "code",
   "execution_count": null,
   "metadata": {
    "deletable": false,
    "name": "mltkc_summary"
   },
   "outputs": [],
   "source": [
    "# return a model summary\n",
    "def summary(model=None):\n",
    "    returns = {\"version\": {\"numpy\": np.__version__, \"pandas\": pd.__version__} }\n",
    "    return returns"
   ]
  },
  {
   "cell_type": "markdown",
   "metadata": {},
   "source": [
    "## End of Stages\n",
    "All subsequent cells are not tagged and can be used for further freeform code"
   ]
  },
  {
   "cell_type": "code",
   "execution_count": null,
   "metadata": {},
   "outputs": [],
   "source": []
  },
  {
   "cell_type": "code",
   "execution_count": null,
   "metadata": {},
   "outputs": [],
   "source": []
  }
 ],
 "metadata": {
  "kernelspec": {
   "display_name": "Python 3",
   "language": "python",
   "name": "python3"
  },
  "language_info": {
   "codemirror_mode": {
    "name": "ipython",
    "version": 3
   },
   "file_extension": ".py",
   "mimetype": "text/x-python",
   "name": "python",
   "nbconvert_exporter": "python",
   "pygments_lexer": "ipython3",
   "version": "3.7.6"
  }
 },
 "nbformat": 4,
 "nbformat_minor": 4
}
